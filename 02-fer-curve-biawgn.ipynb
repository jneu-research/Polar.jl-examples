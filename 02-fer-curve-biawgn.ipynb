{
 "cells": [
  {
   "cell_type": "markdown",
   "metadata": {},
   "source": [
    "# Polar Coding\n",
    "This Jupyter notebook demonstrates how to use [Polar.jl](https://github.com/jneu-research/Polar.jl) to encode and decode polar codes.\n",
    "In particular, we evaluate the frame error rates (FER) of the codes designed in notebook `01-code-design-biawgn.ipynb` using [Monte Carlo simulation](https://en.wikipedia.org/wiki/Monte_Carlo_method).\n",
    "Again, the target is: blocklength $n=128$ (corresponding to $m=7$ polarization steps), dimension $k=64$ (corresponding to rate $R=1/2$), binary-input additive white Gaussian noise (BIAWGN) channel."
   ]
  },
  {
   "cell_type": "markdown",
   "metadata": {},
   "source": [
    "## Preparations\n",
    "Activate project-local Julia environment and load plots library"
   ]
  },
  {
   "cell_type": "code",
   "execution_count": 1,
   "metadata": {},
   "outputs": [
    {
     "data": {
      "text/plain": [
       "Plots.PyPlotBackend()"
      ]
     },
     "execution_count": 1,
     "metadata": {},
     "output_type": "execute_result"
    }
   ],
   "source": [
    "using Pkg\n",
    "Pkg.activate(\".\")\n",
    "\n",
    "using Plots\n",
    "pyplot()"
   ]
  },
  {
   "cell_type": "markdown",
   "metadata": {},
   "source": [
    "Load required parts of Polar.jl"
   ]
  },
  {
   "cell_type": "code",
   "execution_count": 2,
   "metadata": {},
   "outputs": [
    {
     "name": "stderr",
     "output_type": "stream",
     "text": [
      "┌ Warning: Package Polar does not have Plots in its dependencies:\n",
      "│ - If you have Polar checked out for development and have\n",
      "│   added Plots as a dependency but haven't updated your primary\n",
      "│   environment's manifest file, try `Pkg.resolve()`.\n",
      "│ - Otherwise you may need to report an issue with Polar\n",
      "│ Loading Plots into Polar from project dependency, future warnings for Polar are suppressed.\n",
      "└ @ nothing nothing:840\n"
     ]
    }
   ],
   "source": [
    "# using Revise\n",
    "using Polar.PolarCodes: PolarCode, polarencode, deinterleave, R, m\n",
    "using Polar.GF2n: GF2_0, GF2_1, GF2Element\n",
    "using Polar.CommunicationsUtils: ebn0db2σ²\n",
    "using Polar.Channels: BiAWGNChannel, get_f, get_llr, mod_bpsk\n",
    "using Polar.PolarDecoding: SCLDecoder, UnquantizedLLR, UnquantizedPM, decode!, extract_best_pm\n",
    "using Polar.SimulationUtils: sim_parallel_experiments_fer_simple01, SimulationResult, rate"
   ]
  },
  {
   "cell_type": "markdown",
   "metadata": {},
   "source": [
    "Frozen vectors of codes designed in `01-code-design-biawgn.ipynb`"
   ]
  },
  {
   "cell_type": "code",
   "execution_count": 3,
   "metadata": {},
   "outputs": [
    {
     "data": {
      "text/plain": [
       "PolarCode{128,64}(fingerprint=bb3206bf4cab7d6e)"
      ]
     },
     "execution_count": 3,
     "metadata": {},
     "output_type": "execute_result"
    }
   ],
   "source": [
    "frozen_vector_rm = Bool[true, true, true, true, true, true, true, true, true, true, true, true, true, true, true, false, true, true, true, true, true, true, true, false, true, true, true, false, true, false, false, false, true, true, true, true, true, true, true, false, true, true, true, false, true, false, false, false, true, true, true, false, true, false, false, false, true, false, false, false, false, false, false, false, true, true, true, true, true, true, true, false, true, true, true, false, true, false, false, false, true, true, true, false, true, false, false, false, true, false, false, false, false, false, false, false, true, true, true, false, true, false, false, false, true, false, false, false, false, false, false, false, true, false, false, false, false, false, false, false, false, false, false, false, false, false, false, false]\n",
    "frozen_vector_de = Bool[true, true, true, true, true, true, true, true, true, true, true, true, true, true, true, true, true, true, true, true, true, true, true, true, true, true, true, true, true, true, false, false, true, true, true, true, true, true, true, true, true, true, true, false, true, false, false, false, true, true, true, false, true, false, false, false, true, false, false, false, false, false, false, false, true, true, true, true, true, true, true, false, true, true, true, false, true, false, false, false, true, true, true, false, true, false, false, false, false, false, false, false, false, false, false, false, true, true, false, false, false, false, false, false, false, false, false, false, false, false, false, false, false, false, false, false, false, false, false, false, false, false, false, false, false, false, false, false]\n",
    "code_rm = PolarCode(frozen_vector_rm)\n",
    "code_de = PolarCode(frozen_vector_de)"
   ]
  },
  {
   "cell_type": "markdown",
   "metadata": {},
   "source": [
    "## Encoding and decoding basics\n",
    "The following snippet creates a random payload of length $k=64$, polar-encodes it, modulates it using [BPSK](https://en.wikipedia.org/wiki/Phase-shift_keying#Binary_phase-shift_keying_(BPSK)), ''transmits'' it over a BIAWGN with signal-to-noise ratio $E_\\text{b}/N_\\text{0} = 2.5\\,\\text{dB}$, and then decodes it using a successive cancellation list (SCL) decoder with list size $L=32$ and checks whether an error has occurred in the simulated transmission."
   ]
  },
  {
   "cell_type": "code",
   "execution_count": 4,
   "metadata": {},
   "outputs": [
    {
     "name": "stdout",
     "output_type": "stream",
     "text": [
      "(all(u .== û), u .== û) = (true, Bool[true, true, true, true, true, true, true, true, true, true, true, true, true, true, true, true, true, true, true, true, true, true, true, true, true, true, true, true, true, true, true, true, true, true, true, true, true, true, true, true, true, true, true, true, true, true, true, true, true, true, true, true, true, true, true, true, true, true, true, true, true, true, true, true])\n"
     ]
    }
   ],
   "source": [
    "EbN0dB = 2.5\n",
    "L = 32\n",
    "code = code_de\n",
    "\n",
    "# prepare BIAWGN at target Eb/N0\n",
    "σ² = ebn0db2σ²(EbN0dB, R(code))\n",
    "channel = BiAWGNChannel(σ²)\n",
    "channel_function_y = get_f(channel)\n",
    "channel_function_llr = get_llr(channel)\n",
    "\n",
    "# prepare SCL decoder\n",
    "decoder = SCLDecoder{m(code),L,UnquantizedLLR,UnquantizedPM,code}()\n",
    "\n",
    "# encoding\n",
    "u = rand(GF2Element, 64)\n",
    "c = polarencode(code, u)\n",
    "\n",
    "# channel simulation and LLR computation\n",
    "y = channel_function_y.(c)\n",
    "llrs = UnquantizedLLR.(channel_function_llr.(y))\n",
    "\n",
    "# decoding\n",
    "decode!(decoder, llrs)\n",
    "(ĉ, pathmetric) = extract_best_pm(decoder)\n",
    "û = deinterleave(code, ĉ);\n",
    "\n",
    "# check for transmission error\n",
    "@show all(u .== û), u .== û;"
   ]
  },
  {
   "cell_type": "markdown",
   "metadata": {},
   "source": [
    "## Distributed Monte Carlo simulations\n",
    "To evaluate the FER to a desired relative precision usually requires to simulate large numbers of frames, in particular when the FER is close to $0$.\n",
    "As a rough ballpark, $\\approx400$ frame error events are required to achieve a relative precision of $10\\%$, $1600$ frame error events are required for $5\\%$, and $4300$ frame error events are required for $3\\%$.\n",
    "Furthermore, the FER is usually of interest not only for a fixed channel parameter but for a range of channel parameters, further increasing the number of experiments.\n",
    "Fortunately, this problem is [embarrassingly parallel](https://en.wikipedia.org/wiki/Embarrassingly_parallel), hence these runs can be run in parallel on a larger number of machines using Julia's [distributed computing infrastructure](https://docs.julialang.org/en/v1/stdlib/Distributed/index.html).\n",
    "\n",
    "To simplify standard code simulations, Polar.jl comes with convenient wrappers and helpful simulation tools.\n",
    "In the following, the FER curve is simulated for a BIAWGN with signal-to-noise ratios in the range of $E_\\text{b}/N_\\text{0} = 1.0\\,\\text{dB}$ to $E_\\text{b}/N_\\text{0} = 3.0\\,\\text{dB}$ and list sizes $L\\in\\{1,4,32\\}$, up to a relative precision of $20\\%$:"
   ]
  },
  {
   "cell_type": "code",
   "execution_count": 5,
   "metadata": {},
   "outputs": [
    {
     "name": "stdout",
     "output_type": "stream",
     "text": [
      "(L, EbN0dB) = (1, 1.0)\n",
      "  2.581513 seconds (46.12 M allocations: 890.466 MiB, 4.88% gc time)\n",
      "elapsed time (ns): 2581513002\n",
      "gc time (ns):      125969995\n",
      "bytes allocated:   933721183\n",
      "pool allocs:       46123300\n",
      "non-pool GC allocs:740\n",
      "malloc() calls:    15\n",
      "realloc() calls:   4\n",
      "GC pauses:         40\n",
      "simulation_results[(L, EbN0dB)] = SimulationResult{(:ListError, :MLError, :PMError)}(Dict(:ListError=>8341,:PMError=>8341,:ANY=>19200,:MLError=>2860))\n",
      "(L, EbN0dB) = (1, 1.5)\n",
      "  1.152014 seconds (38.65 M allocations: 668.405 MiB, 7.01% gc time)\n",
      "elapsed time (ns): 1152014186\n",
      "gc time (ns):      80776840\n",
      "bytes allocated:   700873808\n",
      "pool allocs:       38654277\n",
      "non-pool GC allocs:1\n",
      "GC pauses:         31\n",
      "simulation_results[(L, EbN0dB)] = SimulationResult{(:ListError, :MLError, :PMError)}(Dict(:ListError=>5166,:PMError=>5166,:ANY=>19200,:MLError=>1489))\n",
      "(L, EbN0dB) = (1, 2.0)\n",
      "  1.025017 seconds (35.24 M allocations: 614.902 MiB, 7.22% gc time)\n",
      "elapsed time (ns): 1025017365\n",
      "gc time (ns):      74057342\n",
      "bytes allocated:   644770960\n",
      "pool allocs:       35239390\n",
      "non-pool GC allocs:1\n",
      "GC pauses:         28\n",
      "simulation_results[(L, EbN0dB)] = SimulationResult{(:ListError, :MLError, :PMError)}(Dict(:ListError=>2664,:PMError=>2664,:ANY=>19200,:MLError=>721))\n",
      "(L, EbN0dB) = (1, 2.5)\n",
      "  0.976074 seconds (33.15 M allocations: 582.204 MiB, 7.91% gc time)\n",
      "elapsed time (ns): 976073708\n",
      "gc time (ns):      77171215\n",
      "bytes allocated:   610485488\n",
      "pool allocs:       33150108\n",
      "non-pool GC allocs:1\n",
      "GC pauses:         27\n",
      "simulation_results[(L, EbN0dB)] = SimulationResult{(:ListError, :MLError, :PMError)}(Dict(:ListError=>1198,:PMError=>1198,:ANY=>19200,:MLError=>329))\n",
      "(L, EbN0dB) = (1, 3.0)\n",
      "  0.937594 seconds (31.92 M allocations: 563.058 MiB, 7.99% gc time)\n",
      "elapsed time (ns): 937593804\n",
      "gc time (ns):      74919173\n",
      "bytes allocated:   590408736\n",
      "pool allocs:       31923059\n",
      "non-pool GC allocs:1\n",
      "GC pauses:         25\n",
      "simulation_results[(L, EbN0dB)] = SimulationResult{(:ListError, :MLError, :PMError)}(Dict(:ListError=>437,:PMError=>437,:ANY=>19200,:MLError=>153))\n",
      "(L, EbN0dB) = (4, 1.0)\n",
      "  3.924885 seconds (116.82 M allocations: 1.867 GiB, 6.43% gc time)\n",
      "elapsed time (ns): 3924884782\n",
      "gc time (ns):      252397706\n",
      "bytes allocated:   2004595033\n",
      "pool allocs:       116822608\n",
      "non-pool GC allocs:598\n",
      "malloc() calls:    15\n",
      "realloc() calls:   4\n",
      "GC pauses:         87\n",
      "simulation_results[(L, EbN0dB)] = SimulationResult{(:ListError, :MLError, :PMError)}(Dict(:ListError=>3007,:PMError=>5165,:ANY=>19200,:MLError=>4372))\n",
      "(L, EbN0dB) = (4, 1.5)\n",
      "  3.199671 seconds (111.39 M allocations: 1.737 GiB, 6.94% gc time)\n",
      "elapsed time (ns): 3199670700\n",
      "gc time (ns):      222089856\n",
      "bytes allocated:   1865405248\n",
      "pool allocs:       111386386\n",
      "non-pool GC allocs:1\n",
      "GC pauses:         82\n",
      "simulation_results[(L, EbN0dB)] = SimulationResult{(:ListError, :MLError, :PMError)}(Dict(:ListError=>1178,:PMError=>2648,:ANY=>19200,:MLError=>2265))\n",
      "(L, EbN0dB) = (4, 2.0)\n",
      "  3.151101 seconds (108.81 M allocations: 1.697 GiB, 7.25% gc time)\n",
      "elapsed time (ns): 3151100521\n",
      "gc time (ns):      228343038\n",
      "bytes allocated:   1821966816\n",
      "pool allocs:       108805151\n",
      "non-pool GC allocs:1\n",
      "GC pauses:         79\n",
      "simulation_results[(L, EbN0dB)] = SimulationResult{(:ListError, :MLError, :PMError)}(Dict(:ListError=>349,:PMError=>1216,:ANY=>19200,:MLError=>1069))\n",
      "(L, EbN0dB) = (4, 2.5)\n",
      "  3.151940 seconds (107.14 M allocations: 1.671 GiB, 7.37% gc time)\n",
      "elapsed time (ns): 3151940138\n",
      "gc time (ns):      232412213\n",
      "bytes allocated:   1794331104\n",
      "pool allocs:       107142079\n",
      "non-pool GC allocs:1\n",
      "GC pauses:         78\n",
      "simulation_results[(L, EbN0dB)] = SimulationResult{(:ListError, :MLError, :PMError)}(Dict(:ListError=>76,:PMError=>504,:ANY=>19200,:MLError=>468))\n",
      "(L, EbN0dB) = (4, 3.0)\n",
      "  3.140146 seconds (106.00 M allocations: 1.654 GiB, 7.79% gc time)\n",
      "elapsed time (ns): 3140146254\n",
      "gc time (ns):      244707921\n",
      "bytes allocated:   1775608816\n",
      "pool allocs:       105999548\n",
      "non-pool GC allocs:1\n",
      "GC pauses:         78\n",
      "simulation_results[(L, EbN0dB)] = SimulationResult{(:ListError, :MLError, :PMError)}(Dict(:ListError=>8,:PMError=>175,:ANY=>19200,:MLError=>172))\n",
      "(L, EbN0dB) = (32, 1.0)\n",
      " 22.342418 seconds (738.24 M allocations: 11.467 GiB, 7.32% gc time)\n",
      "elapsed time (ns): 22342417843\n",
      "gc time (ns):      1634973950\n",
      "bytes allocated:   12312658098\n",
      "pool allocs:       738235045\n",
      "non-pool GC allocs:4782\n",
      "GC pauses:         537\n",
      "simulation_results[(L, EbN0dB)] = SimulationResult{(:ListError, :MLError, :PMError)}(Dict(:ListError=>927,:PMError=>4630,:ANY=>19200,:MLError=>4610))\n",
      "(L, EbN0dB) = (32, 1.5)\n",
      " 22.641024 seconds (730.17 M allocations: 11.314 GiB, 7.55% gc time)\n",
      "elapsed time (ns): 22641024304\n",
      "gc time (ns):      1709322526\n",
      "bytes allocated:   12148153360\n",
      "pool allocs:       730162801\n",
      "non-pool GC allocs:2444\n",
      "GC pauses:         529\n",
      "simulation_results[(L, EbN0dB)] = SimulationResult{(:ListError, :MLError, :PMError)}(Dict(:ListError=>209,:PMError=>2443,:ANY=>19200,:MLError=>2435))\n",
      "(L, EbN0dB) = (32, 2.0)\n",
      " 21.884500 seconds (723.94 M allocations: 11.211 GiB, 7.81% gc time)\n",
      "elapsed time (ns): 21884499734\n",
      "gc time (ns):      1709428200\n",
      "bytes allocated:   12037413312\n",
      "pool allocs:       723936201\n",
      "non-pool GC allocs:1142\n",
      "GC pauses:         525\n",
      "simulation_results[(L, EbN0dB)] = SimulationResult{(:ListError, :MLError, :PMError)}(Dict(:ListError=>48,:PMError=>1141,:ANY=>19200,:MLError=>1139))\n",
      "(L, EbN0dB) = (32, 2.5)\n",
      " 22.224509 seconds (718.79 M allocations: 11.129 GiB, 8.01% gc time)\n",
      "elapsed time (ns): 22224509155\n",
      "gc time (ns):      1779609305\n",
      "bytes allocated:   11949541248\n",
      "pool allocs:       718793520\n",
      "non-pool GC allocs:473\n",
      "GC pauses:         521\n",
      "simulation_results[(L, EbN0dB)] = SimulationResult{(:ListError, :MLError, :PMError)}(Dict(:ListError=>2,:PMError=>472,:ANY=>19200,:MLError=>471))\n",
      "(L, EbN0dB) = (32, 3.0)\n",
      " 22.696885 seconds (714.56 M allocations: 11.064 GiB, 8.27% gc time)\n",
      "elapsed time (ns): 22696885309\n",
      "gc time (ns):      1878029342\n",
      "bytes allocated:   11879584560\n",
      "pool allocs:       714561390\n",
      "non-pool GC allocs:199\n",
      "GC pauses:         518\n",
      "simulation_results[(L, EbN0dB)] = SimulationResult{(:ListError, :MLError, :PMError)}(Dict(:ListError=>2,:PMError=>198,:ANY=>19200,:MLError=>198))\n"
     ]
    }
   ],
   "source": [
    "EbN0dBs = 1.0:0.5:3.0\n",
    "Ls = [1, 4, 32]\n",
    "code = code_de\n",
    "\n",
    "simulation_results = Dict{Tuple{Int,Float64},SimulationResult{(:ListError, :MLError, :PMError)}}()\n",
    "\n",
    "for L in Ls\n",
    "    decoder = SCLDecoder{m(code),L,UnquantizedLLR,UnquantizedPM,code}()\n",
    "    \n",
    "    for EbN0dB in EbN0dBs\n",
    "        @show (L, EbN0dB)\n",
    "\n",
    "        σ² = ebn0db2σ²(EbN0dB, R(code))\n",
    "        channel = BiAWGNChannel(σ²)\n",
    "\n",
    "        simulation_results[(L, EbN0dB)] = sim_parallel_experiments_fer_simple01(code, decoder, channel; desired_ci_rel=0.2, desired_ci_event=:PMError)\n",
    "\n",
    "        @show simulation_results[(L, EbN0dB)]\n",
    "    end\n",
    "end"
   ]
  },
  {
   "cell_type": "code",
   "execution_count": 6,
   "metadata": {},
   "outputs": [
    {
     "data": {
      "image/png": "[encoded data removed]"
     },
     "execution_count": 6,
     "metadata": {},
     "output_type": "execute_result"
    }
   ],
   "source": [
    "p = plot(yscale=:log10, yticks=[0.001, 0.01, 0.1, 1.0], ylim=(0.005, 1))\n",
    "for L in Ls\n",
    "    plot!(EbN0dBs, x -> rate(simulation_results[(L, x)], :PMError), label=\"FER L=$(L)\")\n",
    "end\n",
    "plot!(EbN0dBs, x -> rate(simulation_results[(32, x)], :MLError), label=\"ML-Decoder Lower Bound\")\n",
    "p"
   ]
  },
  {
   "cell_type": "code",
   "execution_count": null,
   "metadata": {},
   "outputs": [],
   "source": []
  }
 ],
 "metadata": {
  "kernelspec": {
   "display_name": "Julia 1.0.3",
   "language": "julia",
   "name": "julia-1.0"
  },
  "language_info": {
   "file_extension": ".jl",
   "mimetype": "application/julia",
   "name": "julia",
   "version": "1.0.3"
  }
 },
 "nbformat": 4,
 "nbformat_minor": 2
}
